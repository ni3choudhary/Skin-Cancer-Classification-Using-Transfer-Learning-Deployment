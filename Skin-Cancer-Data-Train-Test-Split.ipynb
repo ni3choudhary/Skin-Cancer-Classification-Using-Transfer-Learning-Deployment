{
 "cells": [
  {
   "cell_type": "code",
   "execution_count": 1,
   "id": "14662dfa",
   "metadata": {},
   "outputs": [],
   "source": [
    "import pandas as pd\n",
    "import os\n",
    "import shutil\n",
    "import random"
   ]
  },
  {
   "cell_type": "code",
   "execution_count": 2,
   "id": "e12da6a9",
   "metadata": {},
   "outputs": [],
   "source": [
    "def train_test_split(source, n):\n",
    "    allfiles = os.listdir(source)\n",
    "    try: \n",
    "        os.mkdir(os.path.join(source, 'train'))\n",
    "        os.mkdir(os.path.join(source, 'test'))\n",
    "    except OSError as error: \n",
    "        print(error)\n",
    "        \n",
    "    test_samples = random.sample(allfiles,n)\n",
    "    \n",
    "    for file in allfiles:\n",
    "        if file not in test_samples:\n",
    "            shutil.move(source + file, source + 'train/' + file)\n",
    "        else:\n",
    "            shutil.move(source + file, source + 'test/' + file)"
   ]
  },
  {
   "cell_type": "code",
   "execution_count": 3,
   "id": "6fbbbbbd",
   "metadata": {},
   "outputs": [],
   "source": [
    "source = './Basal_cell_carcinoma/'\n",
    "train_test_split(source, 100)"
   ]
  },
  {
   "cell_type": "code",
   "execution_count": 4,
   "id": "a2743a0c",
   "metadata": {},
   "outputs": [],
   "source": [
    "source = './Melanoma/'\n",
    "train_test_split(source, 100)"
   ]
  },
  {
   "cell_type": "code",
   "execution_count": 5,
   "id": "929781b3",
   "metadata": {},
   "outputs": [],
   "source": [
    "source = './Nevus/'\n",
    "train_test_split(source, 100)"
   ]
  },
  {
   "cell_type": "code",
   "execution_count": null,
   "id": "b254f125",
   "metadata": {},
   "outputs": [],
   "source": []
  }
 ],
 "metadata": {
  "kernelspec": {
   "display_name": "Python 3",
   "language": "python",
   "name": "python3"
  },
  "language_info": {
   "codemirror_mode": {
    "name": "ipython",
    "version": 3
   },
   "file_extension": ".py",
   "mimetype": "text/x-python",
   "name": "python",
   "nbconvert_exporter": "python",
   "pygments_lexer": "ipython3",
   "version": "3.7.7"
  }
 },
 "nbformat": 4,
 "nbformat_minor": 5
}
