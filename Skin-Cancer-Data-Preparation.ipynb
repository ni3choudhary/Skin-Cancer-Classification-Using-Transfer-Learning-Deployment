{
 "cells": [
  {
   "cell_type": "code",
   "execution_count": 1,
   "id": "7928aa43",
   "metadata": {},
   "outputs": [],
   "source": [
    "import pandas as pd\n",
    "import os\n",
    "import shutil"
   ]
  },
  {
   "cell_type": "code",
   "execution_count": 2,
   "id": "6d9687b4",
   "metadata": {},
   "outputs": [],
   "source": [
    "df = pd.read_csv('./ISIC_2019_Training_GroundTruth.csv')"
   ]
  },
  {
   "cell_type": "code",
   "execution_count": 3,
   "id": "c0ed3441",
   "metadata": {},
   "outputs": [
    {
     "data": {
      "text/html": [
       "<div>\n",
       "<style scoped>\n",
       "    .dataframe tbody tr th:only-of-type {\n",
       "        vertical-align: middle;\n",
       "    }\n",
       "\n",
       "    .dataframe tbody tr th {\n",
       "        vertical-align: top;\n",
       "    }\n",
       "\n",
       "    .dataframe thead th {\n",
       "        text-align: right;\n",
       "    }\n",
       "</style>\n",
       "<table border=\"1\" class=\"dataframe\">\n",
       "  <thead>\n",
       "    <tr style=\"text-align: right;\">\n",
       "      <th></th>\n",
       "      <th>image</th>\n",
       "      <th>MEL</th>\n",
       "      <th>NV</th>\n",
       "      <th>BCC</th>\n",
       "      <th>AK</th>\n",
       "      <th>BKL</th>\n",
       "      <th>DF</th>\n",
       "      <th>VASC</th>\n",
       "      <th>SCC</th>\n",
       "      <th>UNK</th>\n",
       "    </tr>\n",
       "  </thead>\n",
       "  <tbody>\n",
       "    <tr>\n",
       "      <th>0</th>\n",
       "      <td>ISIC_0000000</td>\n",
       "      <td>0.0</td>\n",
       "      <td>1.0</td>\n",
       "      <td>0.0</td>\n",
       "      <td>0.0</td>\n",
       "      <td>0.0</td>\n",
       "      <td>0.0</td>\n",
       "      <td>0.0</td>\n",
       "      <td>0.0</td>\n",
       "      <td>0.0</td>\n",
       "    </tr>\n",
       "    <tr>\n",
       "      <th>1</th>\n",
       "      <td>ISIC_0000001</td>\n",
       "      <td>0.0</td>\n",
       "      <td>1.0</td>\n",
       "      <td>0.0</td>\n",
       "      <td>0.0</td>\n",
       "      <td>0.0</td>\n",
       "      <td>0.0</td>\n",
       "      <td>0.0</td>\n",
       "      <td>0.0</td>\n",
       "      <td>0.0</td>\n",
       "    </tr>\n",
       "    <tr>\n",
       "      <th>2</th>\n",
       "      <td>ISIC_0000002</td>\n",
       "      <td>1.0</td>\n",
       "      <td>0.0</td>\n",
       "      <td>0.0</td>\n",
       "      <td>0.0</td>\n",
       "      <td>0.0</td>\n",
       "      <td>0.0</td>\n",
       "      <td>0.0</td>\n",
       "      <td>0.0</td>\n",
       "      <td>0.0</td>\n",
       "    </tr>\n",
       "    <tr>\n",
       "      <th>3</th>\n",
       "      <td>ISIC_0000003</td>\n",
       "      <td>0.0</td>\n",
       "      <td>1.0</td>\n",
       "      <td>0.0</td>\n",
       "      <td>0.0</td>\n",
       "      <td>0.0</td>\n",
       "      <td>0.0</td>\n",
       "      <td>0.0</td>\n",
       "      <td>0.0</td>\n",
       "      <td>0.0</td>\n",
       "    </tr>\n",
       "    <tr>\n",
       "      <th>4</th>\n",
       "      <td>ISIC_0000004</td>\n",
       "      <td>1.0</td>\n",
       "      <td>0.0</td>\n",
       "      <td>0.0</td>\n",
       "      <td>0.0</td>\n",
       "      <td>0.0</td>\n",
       "      <td>0.0</td>\n",
       "      <td>0.0</td>\n",
       "      <td>0.0</td>\n",
       "      <td>0.0</td>\n",
       "    </tr>\n",
       "  </tbody>\n",
       "</table>\n",
       "</div>"
      ],
      "text/plain": [
       "          image  MEL   NV  BCC   AK  BKL   DF  VASC  SCC  UNK\n",
       "0  ISIC_0000000  0.0  1.0  0.0  0.0  0.0  0.0   0.0  0.0  0.0\n",
       "1  ISIC_0000001  0.0  1.0  0.0  0.0  0.0  0.0   0.0  0.0  0.0\n",
       "2  ISIC_0000002  1.0  0.0  0.0  0.0  0.0  0.0   0.0  0.0  0.0\n",
       "3  ISIC_0000003  0.0  1.0  0.0  0.0  0.0  0.0   0.0  0.0  0.0\n",
       "4  ISIC_0000004  1.0  0.0  0.0  0.0  0.0  0.0   0.0  0.0  0.0"
      ]
     },
     "execution_count": 3,
     "metadata": {},
     "output_type": "execute_result"
    }
   ],
   "source": [
    "df.head()"
   ]
  },
  {
   "cell_type": "code",
   "execution_count": 4,
   "id": "b630bce8",
   "metadata": {},
   "outputs": [],
   "source": [
    "source = './ISIC_2019_Training_Input/'"
   ]
  },
  {
   "cell_type": "code",
   "execution_count": 5,
   "id": "06689e80",
   "metadata": {},
   "outputs": [],
   "source": [
    "def create_data(df, source, destination):\n",
    "    allfiles = os.listdir(source)\n",
    "    try: \n",
    "        os.mkdir(destination) \n",
    "    except OSError as error: \n",
    "        print(error)\n",
    "    for file in allfiles:\n",
    "        img_name = file.split('.')[0]\n",
    "        if destination==\"Melanoma\":\n",
    "            melanoma_list = df.loc[df['MEL']==1.0]['image'].sample(n = 2000).tolist()\n",
    "            if img_name in melanoma_list:\n",
    "                dest_file = destination +'_' + str(file)\n",
    "                shutil.copy(source + file, destination + '/' + dest_file)\n",
    "        elif destination==\"Basal_cell_carcinoma\":\n",
    "            basal_cell_list = df.loc[df['BCC']==1.0]['image'].sample(n = 2000).tolist()\n",
    "            if img_name in basal_cell_list:\n",
    "                dest_file = destination +'_' + str(file)\n",
    "                shutil.copy(source + file, destination + '/' + dest_file)\n",
    "        else:\n",
    "            nevus_list = df.loc[df['NV']==1.0]['image'].sample(n = 2000).tolist()\n",
    "            if img_name in nevus_list:\n",
    "                dest_file = destination +'_' + str(file)\n",
    "                shutil.copy(source + file, destination + '/' + dest_file)"
   ]
  },
  {
   "cell_type": "code",
   "execution_count": 6,
   "id": "eda7a0aa",
   "metadata": {},
   "outputs": [],
   "source": [
    "create_data(df, source, \"Melanoma\")"
   ]
  },
  {
   "cell_type": "code",
   "execution_count": 7,
   "id": "87f78859",
   "metadata": {},
   "outputs": [],
   "source": [
    "create_data(df, source, \"Basal_cell_carcinoma\")"
   ]
  },
  {
   "cell_type": "code",
   "execution_count": 8,
   "id": "f8a8962f",
   "metadata": {},
   "outputs": [],
   "source": [
    "create_data(df, source, \"Nevus\")"
   ]
  },
  {
   "cell_type": "code",
   "execution_count": null,
   "id": "08975d43",
   "metadata": {},
   "outputs": [],
   "source": []
  }
 ],
 "metadata": {
  "kernelspec": {
   "display_name": "Python 3",
   "language": "python",
   "name": "python3"
  },
  "language_info": {
   "codemirror_mode": {
    "name": "ipython",
    "version": 3
   },
   "file_extension": ".py",
   "mimetype": "text/x-python",
   "name": "python",
   "nbconvert_exporter": "python",
   "pygments_lexer": "ipython3",
   "version": "3.7.7"
  }
 },
 "nbformat": 4,
 "nbformat_minor": 5
}
